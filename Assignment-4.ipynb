{
 "cells": [
  {
   "cell_type": "code",
   "execution_count": 1,
   "id": "268a9621",
   "metadata": {},
   "outputs": [
    {
     "name": "stdout",
     "output_type": "stream",
     "text": [
      "[1, 5]\n"
     ]
    }
   ],
   "source": [
    "# Question-1\n",
    "def commonElements(arr1, arr2, arr3):\n",
    "    p1 = p2 = p3 = 0\n",
    "    result = []\n",
    "    \n",
    "    while p1 < len(arr1) and p2 < len(arr2) and p3 < len(arr3):\n",
    "        if arr1[p1] == arr2[p2] == arr3[p3]:\n",
    "            result.append(arr1[p1])\n",
    "            p1 += 1\n",
    "            p2 += 1\n",
    "            p3 += 1\n",
    "        elif arr1[p1] <= arr2[p2] and arr1[p1] <= arr3[p3]:\n",
    "            p1 += 1\n",
    "        elif arr2[p2] <= arr1[p1] and arr2[p2] <= arr3[p3]:\n",
    "            p2 += 1\n",
    "        elif arr3[p3] <= arr1[p1] and arr3[p3] <= arr2[p2]:\n",
    "            p3 += 1\n",
    "    \n",
    "    return result\n",
    "print(commonElements([1,2,3,4,5],[1,2,5,7,9],[1,3,4,5,8]))"
   ]
  },
  {
   "cell_type": "code",
   "execution_count": 3,
   "id": "5b4e7c16",
   "metadata": {},
   "outputs": [
    {
     "name": "stdout",
     "output_type": "stream",
     "text": [
      "[[1, 3], [4, 6]]\n"
     ]
    }
   ],
   "source": [
    "#Question-2\n",
    "def findDisjoint(nums1, nums2):\n",
    "    set1 = set(nums1)\n",
    "    set2 = set(nums2)\n",
    "    \n",
    "    diff1 = set1 - set2\n",
    "    diff2 = set2 - set1\n",
    "    \n",
    "    return [list(diff1), list(diff2)]\n",
    "nums1 = [1,2,3]\n",
    "nums2 = [2,4,6]\n",
    "print(findDisjoint(nums1, nums2))"
   ]
  },
  {
   "cell_type": "code",
   "execution_count": 4,
   "id": "1392510b",
   "metadata": {},
   "outputs": [
    {
     "name": "stdout",
     "output_type": "stream",
     "text": [
      "[[1, 4, 7], [2, 5, 8], [3, 6, 9]]\n"
     ]
    }
   ],
   "source": [
    "#Question-3\n",
    "def transpose(matrix):\n",
    "    rows = len(matrix)\n",
    "    cols = len(matrix[0])\n",
    "    \n",
    "    # Initialize result matrix\n",
    "    result = [[0] * rows for _ in range(cols)]\n",
    "    \n",
    "    # Transpose the matrix\n",
    "    for i in range(rows):\n",
    "        for j in range(cols):\n",
    "            result[j][i] = matrix[i][j]\n",
    "    \n",
    "    return result\n",
    "matrix = [[1,2,3],[4,5,6],[7,8,9]]\n",
    "print(transpose(matrix))"
   ]
  },
  {
   "cell_type": "code",
   "execution_count": 10,
   "id": "c5795b37",
   "metadata": {},
   "outputs": [
    {
     "name": "stdout",
     "output_type": "stream",
     "text": [
      "4\n"
     ]
    }
   ],
   "source": [
    "#Question-4\n",
    "def array_pair_sum(nums):\n",
    "    nums.sort()  # Sort the array in ascending order\n",
    "    pair_sum = 0\n",
    "\n",
    "    for i in range(0, len(nums), 2):\n",
    "        pair_sum += nums[i]\n",
    "\n",
    "    return pair_sum\n",
    "nums = [1, 4, 3, 2]\n",
    "result = array_pair_sum(nums)\n",
    "print(result)"
   ]
  },
  {
   "cell_type": "code",
   "execution_count": 9,
   "id": "99839513",
   "metadata": {},
   "outputs": [
    {
     "name": "stdout",
     "output_type": "stream",
     "text": [
      "2\n"
     ]
    }
   ],
   "source": [
    "#Question-5\n",
    "def complete_rows(n):\n",
    "    left = 0\n",
    "    right = n\n",
    "\n",
    "    while left <= right:\n",
    "        mid = left + (right - left) // 2\n",
    "        curr_sum = (mid * (mid + 1)) // 2\n",
    "\n",
    "        if curr_sum <= n:\n",
    "            left = mid + 1\n",
    "        else:\n",
    "            right = mid - 1\n",
    "\n",
    "    return right\n",
    "n = 5\n",
    "result = complete_rows(n)\n",
    "print(result)"
   ]
  },
  {
   "cell_type": "code",
   "execution_count": 12,
   "id": "0703d213",
   "metadata": {},
   "outputs": [
    {
     "name": "stdout",
     "output_type": "stream",
     "text": [
      "[0, 1, 9, 16, 100]\n"
     ]
    }
   ],
   "source": [
    "#Question-6\n",
    "def sorted_squares(nums):\n",
    "    result = []\n",
    "    for num in nums:\n",
    "        result.append(num * num)\n",
    "    \n",
    "    result.sort()\n",
    "    return result\n",
    "nums =  [-4,-1,0,3,10]\n",
    "result = sorted_squares(nums)\n",
    "print(result)"
   ]
  },
  {
   "cell_type": "code",
   "execution_count": 15,
   "id": "5a12e029",
   "metadata": {},
   "outputs": [
    {
     "name": "stdout",
     "output_type": "stream",
     "text": [
      "4\n"
     ]
    }
   ],
   "source": [
    "#Question-7\n",
    "def max_count(m, n, ops):\n",
    "    min_ai = m\n",
    "    min_bi = n\n",
    "\n",
    "    for op in ops:\n",
    "        min_ai = min(min_ai, op[0])\n",
    "        min_bi = min(min_bi, op[1])\n",
    "\n",
    "    return min_ai * min_bi\n",
    "m = 3\n",
    "n = 3\n",
    "ops = [[2, 2], [3, 3]]\n",
    "result = max_count(m, n, ops)\n",
    "print(result)\n"
   ]
  },
  {
   "cell_type": "code",
   "execution_count": 14,
   "id": "a8230218",
   "metadata": {},
   "outputs": [
    {
     "name": "stdout",
     "output_type": "stream",
     "text": [
      "[2, 3, 5, 4, 1, 7]\n"
     ]
    }
   ],
   "source": [
    "#Question-8\n",
    "def rearrange_array(nums):\n",
    "    n = len(nums) // 2  # Number of pairs (assuming equal number of x and y elements)\n",
    "    result = []\n",
    "\n",
    "    for i in range(n):\n",
    "        result.append(nums[i])           # Add xi\n",
    "        result.append(nums[i + n])       # Add yi\n",
    "\n",
    "    return result\n",
    "nums = [2,5,1,3,4,7]\n",
    "result = rearrange_array(nums)\n",
    "print(result)"
   ]
  },
  {
   "cell_type": "code",
   "execution_count": null,
   "id": "669ee56b",
   "metadata": {},
   "outputs": [],
   "source": []
  }
 ],
 "metadata": {
  "kernelspec": {
   "display_name": "Python 3 (ipykernel)",
   "language": "python",
   "name": "python3"
  },
  "language_info": {
   "codemirror_mode": {
    "name": "ipython",
    "version": 3
   },
   "file_extension": ".py",
   "mimetype": "text/x-python",
   "name": "python",
   "nbconvert_exporter": "python",
   "pygments_lexer": "ipython3",
   "version": "3.10.9"
  }
 },
 "nbformat": 4,
 "nbformat_minor": 5
}
