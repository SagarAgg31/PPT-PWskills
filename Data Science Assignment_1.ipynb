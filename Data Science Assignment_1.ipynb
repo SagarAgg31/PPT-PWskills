{
 "cells": [
  {
   "cell_type": "markdown",
   "id": "543020d4",
   "metadata": {},
   "source": [
    "##  1.Write a Python program to reverse a string without using any built-in string reversal functions."
   ]
  },
  {
   "cell_type": "code",
   "execution_count": 2,
   "id": "ee4dec3c",
   "metadata": {},
   "outputs": [
    {
     "name": "stdout",
     "output_type": "stream",
     "text": [
      "enter a string:sagar\n",
      "ragas\n"
     ]
    }
   ],
   "source": [
    "# defining function\n",
    "def reverseString(string):\n",
    "    reverse = ''\n",
    "    for i in range(len(string)-1,-1,-1):\n",
    "        reverse = reverse + string[i]\n",
    "    return reverse\n",
    "\n",
    "# driver code\n",
    "string = input(\"enter a string:\")\n",
    "result = reverseString(string)\n",
    "print(result)"
   ]
  },
  {
   "cell_type": "code",
   "execution_count": 4,
   "id": "9e3bcd67",
   "metadata": {},
   "outputs": [
    {
     "name": "stdout",
     "output_type": "stream",
     "text": [
      "4\n",
      "3\n",
      "2\n",
      "1\n",
      "0\n"
     ]
    }
   ],
   "source": [
    "for i in range(len(string)-1,-1,-1):\n",
    "    print(i)"
   ]
  },
  {
   "cell_type": "markdown",
   "id": "db40850d",
   "metadata": {},
   "source": [
    "## 2.Implement afunction to check if a given string is a palindrome."
   ]
  },
  {
   "cell_type": "code",
   "execution_count": 9,
   "id": "94b21da6",
   "metadata": {},
   "outputs": [
    {
     "name": "stdout",
     "output_type": "stream",
     "text": [
      "enter a string:bob\n",
      "True\n"
     ]
    }
   ],
   "source": [
    "# defining function\n",
    "def palindromeCheck(string):\n",
    "    if string == string[::-1]:\n",
    "        return True\n",
    "    else:\n",
    "        return False\n",
    "# driver code\n",
    "string = input(\"enter a string:\")\n",
    "result = palindromeCheck(string)\n",
    "print(result)"
   ]
  },
  {
   "cell_type": "markdown",
   "id": "9d259fa8",
   "metadata": {},
   "source": [
    "## 3.Write a program to find the largest element in a given list"
   ]
  },
  {
   "cell_type": "code",
   "execution_count": 16,
   "id": "89547ccf",
   "metadata": {},
   "outputs": [
    {
     "name": "stdout",
     "output_type": "stream",
     "text": [
      "5\n"
     ]
    }
   ],
   "source": [
    "# defining function\n",
    "def largestElement(lst):\n",
    "    # check if list is empty\n",
    "    if not lst:\n",
    "        return None\n",
    "    largest = lst[0]\n",
    "    for element in lst:\n",
    "        if element > largest:\n",
    "            largest = element\n",
    "    return largest\n",
    "# driver code\n",
    "lst = [1,2,3,4,5]\n",
    "result = largestElement(lst)\n",
    "print(result)"
   ]
  },
  {
   "cell_type": "markdown",
   "id": "8bff0f8f",
   "metadata": {},
   "source": [
    "## 4.Implement a function to count the occurrence of each element in a list"
   ]
  },
  {
   "cell_type": "code",
   "execution_count": 24,
   "id": "f8b376e3",
   "metadata": {},
   "outputs": [
    {
     "name": "stdout",
     "output_type": "stream",
     "text": [
      "the element 1: 2\n",
      "the element 2: 1\n",
      "the element 3: 3\n",
      "the element 4: 1\n",
      "the element 5: 4\n"
     ]
    }
   ],
   "source": [
    "## driver code\n",
    "def count_occurence(lst):\n",
    "    # create empty dictionary\n",
    "    occurence_count = {}\n",
    "    for element in lst:\n",
    "        if element in occurence_count:\n",
    "            occurence_count[element] +=1\n",
    "        else:\n",
    "            occurence_count[element] = 1\n",
    "    return occurence_count\n",
    "lst = [1,1,2,3,3,3,4,5,5,5,5]\n",
    "element_values = count_occurence(lst)\n",
    "## iterate element and values\n",
    "for element,value in element_values.items():\n",
    "    print(\"the element {}: {}\".format(element,value))"
   ]
  },
  {
   "cell_type": "markdown",
   "id": "71d1f1d1",
   "metadata": {},
   "source": [
    "## 5. Write a Python program to find the second largest number in a list"
   ]
  },
  {
   "cell_type": "code",
   "execution_count": 31,
   "id": "87f30355",
   "metadata": {},
   "outputs": [
    {
     "name": "stdout",
     "output_type": "stream",
     "text": [
      "67\n"
     ]
    }
   ],
   "source": [
    "## defining function\n",
    "def second_largest(lst):\n",
    "    if len(lst) < 2:\n",
    "        return None\n",
    "    largest = float('-inf')\n",
    "    second_largest = float('-inf')\n",
    "    for num in lst:\n",
    "        if num > largest:\n",
    "            second_largest = largest\n",
    "            largest = num\n",
    "        elif num > second_largest:\n",
    "            second_largest = num\n",
    "    return second_largest\n",
    "\n",
    "## Driver Code\n",
    "lst = [12, 45, 67, 23, 9, 100, 34]\n",
    "result = second_largest(lst)\n",
    "print(result)"
   ]
  },
  {
   "cell_type": "markdown",
   "id": "cb47ca4c",
   "metadata": {},
   "source": [
    "## 6.Implement a function to remove duplicate elements from a list"
   ]
  },
  {
   "cell_type": "code",
   "execution_count": 34,
   "id": "ee84653d",
   "metadata": {},
   "outputs": [
    {
     "name": "stdout",
     "output_type": "stream",
     "text": [
      "[1, 2, 3, 4, 5, 6, 7]\n"
     ]
    }
   ],
   "source": [
    "# defining function\n",
    "def remove_dup(lst):\n",
    "    remove_duplicate = set(lst)\n",
    "    return list(remove_duplicate)\n",
    "\n",
    "\n",
    "## Driver code\n",
    "lst = [1,1,2,2,2,3,3,3,3,5,4,6,7]\n",
    "result = remove_dup(lst)\n",
    "print(result)"
   ]
  },
  {
   "cell_type": "markdown",
   "id": "a70e9865",
   "metadata": {},
   "source": [
    "## 7. Write a program to calculate the factorial of a given number"
   ]
  },
  {
   "cell_type": "code",
   "execution_count": 36,
   "id": "a3ba7d76",
   "metadata": {},
   "outputs": [
    {
     "name": "stdout",
     "output_type": "stream",
     "text": [
      "enter a num:5\n",
      "120\n"
     ]
    }
   ],
   "source": [
    "# defining function\n",
    "def factorial(num):\n",
    "    if num ==0:\n",
    "        return 1\n",
    "    else:\n",
    "        return num*factorial(num-1)\n",
    "# Driver code\n",
    "num = int(input(\"enter a num:\"))\n",
    "result = factorial(num)\n",
    "print(result)"
   ]
  },
  {
   "cell_type": "markdown",
   "id": "4460ee97",
   "metadata": {},
   "source": [
    "## 8. Implement a function to check if a given number is prime"
   ]
  },
  {
   "cell_type": "code",
   "execution_count": 41,
   "id": "9ae1e814",
   "metadata": {},
   "outputs": [
    {
     "name": "stdout",
     "output_type": "stream",
     "text": [
      "Enter a number:6\n",
      "False\n"
     ]
    }
   ],
   "source": [
    "# defininf function\n",
    "def check_prime(num):\n",
    "    if num ==1:\n",
    "        return False\n",
    "    else:\n",
    "        for i in range(2,num):\n",
    "            if num % i ==0:\n",
    "                return False\n",
    "        return True\n",
    "\n",
    "## Driver Code\n",
    "num = int(input(\"Enter a number:\"))\n",
    "prime_num = check_prime(num)\n",
    "print(prime_num)"
   ]
  },
  {
   "cell_type": "markdown",
   "id": "23fff259",
   "metadata": {},
   "source": [
    "## 9. Write a Python program to sort a list of integers in ascending order."
   ]
  },
  {
   "cell_type": "code",
   "execution_count": 2,
   "id": "2924b5c3",
   "metadata": {},
   "outputs": [
    {
     "name": "stdout",
     "output_type": "stream",
     "text": [
      "[1, 2, 4, 5, 7, 9]\n"
     ]
    }
   ],
   "source": [
    "def sort_list_asc(numbers):\n",
    "    numbers.sort()\n",
    "    return numbers\n",
    "\n",
    "# Example usage\n",
    "my_list = [9, 2, 7, 4, 1, 5]\n",
    "sorted_list = sort_list_asc(my_list)\n",
    "print(sorted_list)"
   ]
  },
  {
   "cell_type": "markdown",
   "id": "eb227f70",
   "metadata": {},
   "source": [
    "## 10. Implement a function to find the sum of all numbers in a list."
   ]
  },
  {
   "cell_type": "code",
   "execution_count": 7,
   "id": "6963576c",
   "metadata": {},
   "outputs": [
    {
     "name": "stdout",
     "output_type": "stream",
     "text": [
      "28\n"
     ]
    }
   ],
   "source": [
    "def sum_num(my_list):\n",
    "    sum_list = 0\n",
    "    for i in my_list:\n",
    "        sum_list+=i\n",
    "    return sum_list\n",
    "my_list = [9, 2, 7, 4, 1, 5]\n",
    "summ = sum_num(my_list)\n",
    "print(summ)"
   ]
  },
  {
   "cell_type": "markdown",
   "id": "15fa3486",
   "metadata": {},
   "source": [
    "## 11. Write a program to find the common elements between two lists."
   ]
  },
  {
   "cell_type": "code",
   "execution_count": 10,
   "id": "6773738d",
   "metadata": {},
   "outputs": [
    {
     "name": "stdout",
     "output_type": "stream",
     "text": [
      "[1, 2, 3, 4, 6]\n"
     ]
    }
   ],
   "source": [
    "def common_elements(my_list, my_list1):\n",
    "    common = set(my_list) & set(my_list1)\n",
    "    return list(common)\n",
    "\n",
    "my_list = [1,1,2,3,4,6,6,6]\n",
    "my_list1 = [1,2,3,4,6,7,8,9]\n",
    "result = common_elements(my_list,my_list1)\n",
    "print(result)"
   ]
  },
  {
   "cell_type": "markdown",
   "id": "66d19fda",
   "metadata": {},
   "source": [
    "## 12. Implement a function to check if a given string is an anagram of another string.\n"
   ]
  },
  {
   "cell_type": "code",
   "execution_count": 2,
   "id": "e5351f4c",
   "metadata": {},
   "outputs": [
    {
     "name": "stdout",
     "output_type": "stream",
     "text": [
      "The strings are anagrams!\n"
     ]
    }
   ],
   "source": [
    "def is_anagram(string1, string2):\n",
    "    # Convert both strings to lowercase and remove whitespace\n",
    "    string1 = string1.lower().replace(\" \", \"\")\n",
    "    string2 = string2.lower().replace(\" \", \"\")\n",
    "    \n",
    "    # Check if the lengths of the strings are different\n",
    "    if len(string1) != len(string2):\n",
    "        return False\n",
    "    \n",
    "    # Count the frequency of each character in string1\n",
    "    char_count = {}\n",
    "    for char in string1:\n",
    "        if char in char_count:\n",
    "            char_count[char] += 1\n",
    "        else:\n",
    "            char_count[char] = 1\n",
    "    \n",
    "    # Compare the character counts of string1 and string2\n",
    "    for char in string2:\n",
    "        if char in char_count:\n",
    "            char_count[char] -= 1\n",
    "            if char_count[char] == 0:\n",
    "                del char_count[char]\n",
    "        else:\n",
    "            return False\n",
    "    \n",
    "    # If all characters have been accounted for, it's an anagram\n",
    "    return len(char_count) == 0\n",
    "\n",
    "string1 = \"listen\"\n",
    "string2 = \"silent\"\n",
    "if is_anagram(string1, string2):\n",
    "    print(\"The strings are anagrams!\")\n",
    "else:\n",
    "    print(\"The strings are not anagrams.\")"
   ]
  },
  {
   "cell_type": "markdown",
   "id": "fbb5ae06",
   "metadata": {},
   "source": [
    "# 13.Write a Python program to generate all permutations of a given string."
   ]
  },
  {
   "cell_type": "code",
   "execution_count": 5,
   "id": "0ea40de3",
   "metadata": {},
   "outputs": [
    {
     "name": "stdout",
     "output_type": "stream",
     "text": [
      "abc\n",
      "acb\n",
      "bac\n",
      "bca\n",
      "cab\n",
      "cba\n"
     ]
    }
   ],
   "source": [
    "def permutations(string):\n",
    "    # Base case: If the string is empty, return an empty permutation\n",
    "    if len(string) == 0:\n",
    "        return ['']\n",
    "    \n",
    "    # List to store the permutations\n",
    "    result = []\n",
    "    \n",
    "    # Iterate over each character in the string\n",
    "    for i in range(len(string)):\n",
    "        # Extract the current character\n",
    "        current_char = string[i]\n",
    "        \n",
    "        # Generate all permutations of the remaining characters\n",
    "        remaining_chars = string[:i] + string[i+1:]\n",
    "        sub_permutations = permutations(remaining_chars)\n",
    "        \n",
    "        # Append the current character to each permutation of the remaining characters\n",
    "        for sub_permutation in sub_permutations:\n",
    "            result.append(current_char + sub_permutation)\n",
    "    \n",
    "    # Return the list of permutations\n",
    "    return result\n",
    "string = \"abc\"\n",
    "all_permutations = permutations(string)\n",
    "for permutation in all_permutations:\n",
    "    print(permutation)\n"
   ]
  },
  {
   "cell_type": "markdown",
   "id": "538a563d",
   "metadata": {},
   "source": [
    "##  14. Implement a function to calculate the Fibonacci sequence up to a given number of terms."
   ]
  },
  {
   "cell_type": "code",
   "execution_count": 6,
   "id": "56d5ee25",
   "metadata": {},
   "outputs": [
    {
     "name": "stdout",
     "output_type": "stream",
     "text": [
      "[0, 1, 1, 2, 3, 5, 8, 13, 21, 34]\n"
     ]
    }
   ],
   "source": [
    "def fibonacci_sequence(n):\n",
    "    # Check if the number of terms is less than or equal to 0\n",
    "    if n <= 0:\n",
    "        return []\n",
    "    \n",
    "    # Initialize the sequence with the first two terms\n",
    "    sequence = [0, 1]\n",
    "    \n",
    "    # Generate the Fibonacci sequence\n",
    "    while len(sequence) < n:\n",
    "        next_term = sequence[-1] + sequence[-2]\n",
    "        sequence.append(next_term)\n",
    "    \n",
    "    return sequence\n",
    "n = 10\n",
    "fib_sequence = fibonacci_sequence(n)\n",
    "print(fib_sequence)\n"
   ]
  },
  {
   "cell_type": "markdown",
   "id": "0de3e23a",
   "metadata": {},
   "source": [
    "## 15. Write a program to find the median of a list of numbers."
   ]
  },
  {
   "cell_type": "code",
   "execution_count": 7,
   "id": "6efe152a",
   "metadata": {},
   "outputs": [
    {
     "name": "stdout",
     "output_type": "stream",
     "text": [
      "5\n"
     ]
    }
   ],
   "source": [
    "def find_median(numbers):\n",
    "    # Sort the list of numbers in ascending order\n",
    "    sorted_numbers = sorted(numbers)\n",
    "    \n",
    "    # Find the length of the sorted list\n",
    "    length = len(sorted_numbers)\n",
    "    \n",
    "    # Check if the length is odd\n",
    "    if length % 2 != 0:\n",
    "        # If odd, return the middle element\n",
    "        median = sorted_numbers[length // 2]\n",
    "    else:\n",
    "        # If even, return the average of the two middle elements\n",
    "        middle_right = length // 2\n",
    "        middle_left = middle_right - 1\n",
    "        median = (sorted_numbers[middle_left] + sorted_numbers[middle_right]) / 2\n",
    "    \n",
    "    return median\n",
    "numbers = [7, 2, 9, 1, 5, 3, 8]\n",
    "median = find_median(numbers)\n",
    "print(median)"
   ]
  },
  {
   "cell_type": "markdown",
   "id": "425f1bf1",
   "metadata": {},
   "source": [
    "## 16. Implement a function to check if a given list is sorted in non-decreasing order."
   ]
  },
  {
   "cell_type": "code",
   "execution_count": 8,
   "id": "f20d205a",
   "metadata": {},
   "outputs": [
    {
     "name": "stdout",
     "output_type": "stream",
     "text": [
      "The list is sorted.\n"
     ]
    }
   ],
   "source": [
    "def is_sorted(nums):\n",
    "    # Check if the list has fewer than two elements\n",
    "    if len(nums) < 2:\n",
    "        return True\n",
    "    \n",
    "    # Iterate over the list starting from the second element\n",
    "    for i in range(1, len(nums)):\n",
    "        # Compare the current element with the previous element\n",
    "        if nums[i] < nums[i - 1]:\n",
    "            return False\n",
    "    \n",
    "    # If no out-of-order elements are found, the list is sorted\n",
    "    return True\n",
    "numbers = [1, 3, 5, 7, 9]\n",
    "if is_sorted(numbers):\n",
    "    print(\"The list is sorted.\")\n",
    "else:\n",
    "    print(\"The list is not sorted.\")"
   ]
  },
  {
   "cell_type": "markdown",
   "id": "a75a8474",
   "metadata": {},
   "source": [
    "## 17. Write a Python program to find the intersection of two lists"
   ]
  },
  {
   "cell_type": "code",
   "execution_count": 9,
   "id": "d1b23da9",
   "metadata": {},
   "outputs": [
    {
     "name": "stdout",
     "output_type": "stream",
     "text": [
      "[4, 5]\n"
     ]
    }
   ],
   "source": [
    "def find_intersection(list1, list2):\n",
    "    # Convert the lists to sets for efficient intersection operation\n",
    "    set1 = set(list1)\n",
    "    set2 = set(list2)\n",
    "    \n",
    "    # Find the intersection of the two sets\n",
    "    intersection = set1.intersection(set2)\n",
    "    \n",
    "    # Convert the intersection set back to a list\n",
    "    result = list(intersection)\n",
    "    \n",
    "    return result\n",
    "list1 = [1, 2, 3, 4, 5]\n",
    "list2 = [4, 5, 6, 7, 8]\n",
    "intersection = find_intersection(list1, list2)\n",
    "print(intersection)"
   ]
  },
  {
   "cell_type": "markdown",
   "id": "35249a85",
   "metadata": {},
   "source": [
    "## 18. Implement a function to find the maximum subarray sum in a given list."
   ]
  },
  {
   "cell_type": "code",
   "execution_count": 10,
   "id": "f06dd4b2",
   "metadata": {},
   "outputs": [
    {
     "name": "stdout",
     "output_type": "stream",
     "text": [
      "6\n"
     ]
    }
   ],
   "source": [
    "def max_subarray_sum(nums):\n",
    "    # Check if the list is empty\n",
    "    if not nums:\n",
    "        return 0\n",
    "    \n",
    "    current_sum = max_sum = nums[0]  # Initialize current sum and max sum\n",
    "    \n",
    "    # Iterate over the list starting from the second element\n",
    "    for num in nums[1:]:\n",
    "        # Compare the current element with the sum of current element and previous subarray\n",
    "        current_sum = max(num, current_sum + num)\n",
    "        # Update the maximum sum\n",
    "        max_sum = max(max_sum, current_sum)\n",
    "    \n",
    "    return max_sum\n",
    "numbers = [-2, 1, -3, 4, -1, 2, 1, -5, 4]\n",
    "max_sum = max_subarray_sum(numbers)\n",
    "print(max_sum)"
   ]
  },
  {
   "cell_type": "markdown",
   "id": "0db2d260",
   "metadata": {},
   "source": [
    "## 19. Write a program to remove all vowels from a given string."
   ]
  },
  {
   "cell_type": "code",
   "execution_count": 11,
   "id": "5aec0d1c",
   "metadata": {},
   "outputs": [
    {
     "name": "stdout",
     "output_type": "stream",
     "text": [
      "Hll, Wrld!\n"
     ]
    }
   ],
   "source": [
    "def remove_vowels(string):\n",
    "    vowels = 'aeiouAEIOU'\n",
    "    \n",
    "    # Use list comprehension to filter out vowels from the string\n",
    "    result = ''.join([char for char in string if char not in vowels])\n",
    "    \n",
    "    return result\n",
    "input_string = \"Hello, World!\"\n",
    "result_string = remove_vowels(input_string)\n",
    "print(result_string)\n"
   ]
  },
  {
   "cell_type": "markdown",
   "id": "543a4b9b",
   "metadata": {},
   "source": [
    "## 20.  Implement a function to reverse the order of words in a given sentence"
   ]
  },
  {
   "cell_type": "code",
   "execution_count": 12,
   "id": "5d66f4ac",
   "metadata": {},
   "outputs": [
    {
     "name": "stdout",
     "output_type": "stream",
     "text": [
      "Welcome world! Hello,\n"
     ]
    }
   ],
   "source": [
    "def reverse_words(sentence):\n",
    "    # Split the sentence into individual words\n",
    "    words = sentence.split()\n",
    "    \n",
    "    # Reverse the order of words using slicing\n",
    "    reversed_words = words[::-1]\n",
    "    \n",
    "    # Join the reversed words to form the reversed sentence\n",
    "    reversed_sentence = ' '.join(reversed_words)\n",
    "    \n",
    "    return reversed_sentence\n",
    "input_sentence = \"Hello, world! Welcome \"\n",
    "reversed_sentence = reverse_words(input_sentence)\n",
    "print(reversed_sentence)\n"
   ]
  },
  {
   "cell_type": "markdown",
   "id": "38f91108",
   "metadata": {},
   "source": [
    "## 22. Implement a function to find the first non-repeating character in a string."
   ]
  },
  {
   "cell_type": "code",
   "execution_count": 13,
   "id": "ceaf397b",
   "metadata": {},
   "outputs": [
    {
     "name": "stdout",
     "output_type": "stream",
     "text": [
      "b\n"
     ]
    }
   ],
   "source": [
    "def find_first_non_repeating_char(string):\n",
    "    char_count = {}\n",
    "    \n",
    "    # Count the frequency of each character in the string\n",
    "    for char in string:\n",
    "        if char in char_count:\n",
    "            char_count[char] += 1\n",
    "        else:\n",
    "            char_count[char] = 1\n",
    "    \n",
    "    # Find the first character with frequency equal to 1\n",
    "    for char in string:\n",
    "        if char_count[char] == 1:\n",
    "            return char\n",
    "    \n",
    "    # If no non-repeating character is found, return None\n",
    "    return None\n",
    "input_string = \"aabccdeff\"\n",
    "first_non_repeating_char = find_first_non_repeating_char(input_string)\n",
    "print(first_non_repeating_char)"
   ]
  },
  {
   "cell_type": "markdown",
   "id": "b015867a",
   "metadata": {},
   "source": [
    "## 23. Write a program to find the prime factors of a given number."
   ]
  },
  {
   "cell_type": "code",
   "execution_count": 14,
   "id": "290402c7",
   "metadata": {},
   "outputs": [
    {
     "name": "stdout",
     "output_type": "stream",
     "text": [
      "[2, 2, 3, 7]\n"
     ]
    }
   ],
   "source": [
    "def prime_factors(n):\n",
    "    factors = []\n",
    "    divisor = 2\n",
    "    \n",
    "    while divisor <= n:\n",
    "        if n % divisor == 0:\n",
    "            factors.append(divisor)\n",
    "            n //= divisor\n",
    "        else:\n",
    "            divisor += 1\n",
    "    \n",
    "    return factors\n",
    "number = 84\n",
    "factors = prime_factors(number)\n",
    "print(factors)"
   ]
  },
  {
   "cell_type": "markdown",
   "id": "4c628417",
   "metadata": {},
   "source": [
    "## 24. Implement a function to check if a given number is a power of two."
   ]
  },
  {
   "cell_type": "code",
   "execution_count": 15,
   "id": "860f99c7",
   "metadata": {},
   "outputs": [
    {
     "name": "stdout",
     "output_type": "stream",
     "text": [
      "The number is a power of two.\n"
     ]
    }
   ],
   "source": [
    "def is_power_of_two(n):\n",
    "    if n <= 0:\n",
    "        return False\n",
    "    \n",
    "    # Bitwise AND of n and (n - 1) will be zero for powers of two\n",
    "    return n & (n - 1) == 0\n",
    "number = 16\n",
    "if is_power_of_two(number):\n",
    "    print(\"The number is a power of two.\")\n",
    "else:\n",
    "    print(\"The number is not a power of two.\")\n"
   ]
  },
  {
   "cell_type": "markdown",
   "id": "7ac07d7a",
   "metadata": {},
   "source": [
    "## 25. Write a Python program to merge two sorted lists into a single sorted list.\n"
   ]
  },
  {
   "cell_type": "code",
   "execution_count": 17,
   "id": "77581d0d",
   "metadata": {},
   "outputs": [
    {
     "name": "stdout",
     "output_type": "stream",
     "text": [
      "[1, 2, 3, 4, 5, 6, 7, 8]\n"
     ]
    }
   ],
   "source": [
    "def merge_sorted_lists(list1, list2):\n",
    "    merged_list = []\n",
    "    i = j = 0\n",
    "    \n",
    "    # Merge the lists until one of them is exhausted\n",
    "    while i < len(list1) and j < len(list2):\n",
    "        if list1[i] <= list2[j]:\n",
    "            merged_list.append(list1[i])\n",
    "            i += 1\n",
    "        else:\n",
    "            merged_list.append(list2[j])\n",
    "            j += 1\n",
    "    \n",
    "    # Append the remaining elements from list1, if any\n",
    "    while i < len(list1):\n",
    "        merged_list.append(list1[i])\n",
    "        i += 1\n",
    "    \n",
    "    # Append the remaining elements from list2, if any\n",
    "    while j < len(list2):\n",
    "        merged_list.append(list2[j])\n",
    "        j += 1\n",
    "    \n",
    "    return merged_list\n",
    "list1 = [1, 3, 5, 7]\n",
    "list2 = [2, 4, 6, 8]\n",
    "merged_list = merge_sorted_lists(list1, list2)\n",
    "print(merged_list)"
   ]
  },
  {
   "cell_type": "markdown",
   "id": "c5a493a0",
   "metadata": {},
   "source": [
    "## 26. Implement a function to find the mode of a list of numbers"
   ]
  },
  {
   "cell_type": "code",
   "execution_count": 18,
   "id": "13adf75f",
   "metadata": {},
   "outputs": [
    {
     "name": "stdout",
     "output_type": "stream",
     "text": [
      "[2]\n"
     ]
    }
   ],
   "source": [
    "from collections import Counter\n",
    "\n",
    "def find_mode(numbers):\n",
    "    # Use Counter to count the frequency of each number\n",
    "    counter = Counter(numbers)\n",
    "    \n",
    "    # Find the highest frequency\n",
    "    max_frequency = max(counter.values())\n",
    "    \n",
    "    # Find all numbers with the highest frequency (mode)\n",
    "    mode = [number for number, frequency in counter.items() if frequency == max_frequency]\n",
    "    \n",
    "    return mode\n",
    "numbers = [1, 2, 3, 2, 4, 2, 5, 2]\n",
    "mode = find_mode(numbers)\n",
    "print(mode)"
   ]
  },
  {
   "cell_type": "markdown",
   "id": "8ef30fc2",
   "metadata": {},
   "source": [
    "## 27. Write a program to find the greatest common divisor (GCD) of two numbers.\n"
   ]
  },
  {
   "cell_type": "code",
   "execution_count": 19,
   "id": "a409d992",
   "metadata": {},
   "outputs": [
    {
     "name": "stdout",
     "output_type": "stream",
     "text": [
      "12\n"
     ]
    }
   ],
   "source": [
    "def gcd(a, b):\n",
    "    while b != 0:\n",
    "        a, b = b, a % b\n",
    "    return a\n",
    "number1 = 48\n",
    "number2 = 60\n",
    "result = gcd(number1, number2)\n",
    "print(result)"
   ]
  },
  {
   "cell_type": "markdown",
   "id": "05cd64c6",
   "metadata": {},
   "source": [
    "## 28. Implement a function to calculate the square root of a given number.\n"
   ]
  },
  {
   "cell_type": "code",
   "execution_count": 20,
   "id": "eeb68de7",
   "metadata": {},
   "outputs": [
    {
     "name": "stdout",
     "output_type": "stream",
     "text": [
      "4.0\n"
     ]
    }
   ],
   "source": [
    "def square_root(n):\n",
    "    if n < 0:\n",
    "        raise ValueError(\"Square root is not defined for negative numbers.\")\n",
    "    \n",
    "    if n == 0:\n",
    "        return 0\n",
    "    \n",
    "    # Initial guess for the square root\n",
    "    guess = n / 2\n",
    "    \n",
    "    # Iterate until an acceptable approximation is reached\n",
    "    while True:\n",
    "        new_guess = (guess + n / guess) / 2\n",
    "        if abs(guess - new_guess) < 1e-9:\n",
    "            return new_guess\n",
    "        guess = new_guess\n",
    "number = 16\n",
    "result = square_root(number)\n",
    "print(result)"
   ]
  },
  {
   "cell_type": "markdown",
   "id": "97d975c6",
   "metadata": {},
   "source": [
    "## 29. Write a Python program to check if a given string is a valid palindrome ignoring non-alphanumeric characters.\n"
   ]
  },
  {
   "cell_type": "code",
   "execution_count": 22,
   "id": "7f68d17d",
   "metadata": {},
   "outputs": [
    {
     "name": "stdout",
     "output_type": "stream",
     "text": [
      "The string is a valid palindrome.\n"
     ]
    }
   ],
   "source": [
    "import re\n",
    "\n",
    "def is_valid_palindrome(string):\n",
    "    # Remove non-alphanumeric characters and convert to lowercase\n",
    "    cleaned_string = re.sub('[\\W_]', '', string.lower())\n",
    "    \n",
    "    # Check if the cleaned string is equal to its reverse\n",
    "    return cleaned_string == cleaned_string[::-1]\n",
    "input_string = \"A man, a plan, a canal: Panama\"\n",
    "if is_valid_palindrome(input_string):\n",
    "    print(\"The string is a valid palindrome.\")\n",
    "else:\n",
    "    print(\"The string is not a valid palindrome.\")\n"
   ]
  },
  {
   "cell_type": "markdown",
   "id": "a37d4603",
   "metadata": {},
   "source": [
    "## 30. Implement a function to find the minimum element in a rotated sorted list."
   ]
  },
  {
   "cell_type": "code",
   "execution_count": 23,
   "id": "b4333174",
   "metadata": {},
   "outputs": [
    {
     "name": "stdout",
     "output_type": "stream",
     "text": [
      "0\n"
     ]
    }
   ],
   "source": [
    "def find_min_in_rotated_list(nums):\n",
    "    left = 0\n",
    "    right = len(nums) - 1\n",
    "    \n",
    "    while left < right:\n",
    "        mid = left + (right - left) // 2\n",
    "        \n",
    "        # Check if the middle element is greater than the rightmost element\n",
    "        if nums[mid] > nums[right]:\n",
    "            # Minimum element is in the right half\n",
    "            left = mid + 1\n",
    "        else:\n",
    "            # Minimum element is in the left half or is the middle element\n",
    "            right = mid\n",
    "    \n",
    "    # At the end, left and right will converge to the minimum element\n",
    "    return nums[left]\n",
    "numbers = [4, 5, 6, 7, 0, 1, 2]\n",
    "min_element = find_min_in_rotated_list(numbers)\n",
    "print(min_element)\n"
   ]
  },
  {
   "cell_type": "markdown",
   "id": "283b4ab1",
   "metadata": {},
   "source": [
    "## 31. Write a program to find the sum of all even numbers in a list."
   ]
  },
  {
   "cell_type": "code",
   "execution_count": 24,
   "id": "53f9d73f",
   "metadata": {},
   "outputs": [
    {
     "name": "stdout",
     "output_type": "stream",
     "text": [
      "30\n"
     ]
    }
   ],
   "source": [
    "def sum_of_even_numbers(numbers):\n",
    "    # Initialize the sum\n",
    "    total = 0\n",
    "    \n",
    "    # Iterate over the numbers in the list\n",
    "    for number in numbers:\n",
    "        # Check if the number is even\n",
    "        if number % 2 == 0:\n",
    "            # Add the even number to the sum\n",
    "            total += number\n",
    "    \n",
    "    return total\n",
    "number_list = [1, 2, 3, 4, 5, 6, 7, 8, 9, 10]\n",
    "sum_even = sum_of_even_numbers(number_list)\n",
    "print(sum_even)"
   ]
  },
  {
   "cell_type": "markdown",
   "id": "70da3361",
   "metadata": {},
   "source": [
    "## 32. Implement a function to calculate the power of a number using recursion."
   ]
  },
  {
   "cell_type": "code",
   "execution_count": 25,
   "id": "1088d33d",
   "metadata": {},
   "outputs": [
    {
     "name": "stdout",
     "output_type": "stream",
     "text": [
      "8\n"
     ]
    }
   ],
   "source": [
    "def power(base, exponent):\n",
    "    # Base case: when the exponent is 0, the result is 1\n",
    "    if exponent == 0:\n",
    "        return 1\n",
    "    \n",
    "    # Recursive case: calculate the power using recursion\n",
    "    if exponent > 0:\n",
    "        return base * power(base, exponent - 1)\n",
    "    else:\n",
    "        return 1 / base * power(base, exponent + 1)\n",
    "base = 2\n",
    "exponent = 3\n",
    "result = power(base, exponent)\n",
    "print(result)\n"
   ]
  },
  {
   "cell_type": "markdown",
   "id": "11b35ce0",
   "metadata": {},
   "source": [
    "## 33.Write a Python program to remove duplicates from a list while preserving the order"
   ]
  },
  {
   "cell_type": "code",
   "execution_count": 26,
   "id": "559f671b",
   "metadata": {},
   "outputs": [
    {
     "name": "stdout",
     "output_type": "stream",
     "text": [
      "[1, 2, 3, 4, 5, 6]\n"
     ]
    }
   ],
   "source": [
    "def remove_duplicates_preserve_order(lst):\n",
    "    seen = set()\n",
    "    result = []\n",
    "    \n",
    "    for item in lst:\n",
    "        if item not in seen:\n",
    "            seen.add(item)\n",
    "            result.append(item)\n",
    "    \n",
    "    return result\n",
    "my_list = [1, 2, 3, 2, 4, 3, 5, 6, 1]\n",
    "result_list = remove_duplicates_preserve_order(my_list)\n",
    "print(result_list)"
   ]
  },
  {
   "cell_type": "markdown",
   "id": "f3474618",
   "metadata": {},
   "source": [
    "## 34. Implement a function to find the longest common prefix among a list of strings."
   ]
  },
  {
   "cell_type": "code",
   "execution_count": 27,
   "id": "54c6a799",
   "metadata": {},
   "outputs": [
    {
     "name": "stdout",
     "output_type": "stream",
     "text": [
      "fl\n"
     ]
    }
   ],
   "source": [
    "def longest_common_prefix(strs):\n",
    "    # Handle edge case: if the list is empty, return an empty string\n",
    "    if not strs:\n",
    "        return \"\"\n",
    "    \n",
    "    # Find the minimum length among the strings\n",
    "    min_length = min(len(s) for s in strs)\n",
    "    \n",
    "    # Iterate over the characters up to the minimum length\n",
    "    for i in range(min_length):\n",
    "        # Check if all characters at the current position are the same\n",
    "        if any(strs[j][i] != strs[0][i] for j in range(1, len(strs))):\n",
    "            # If any character is different, return the prefix up to this position\n",
    "            return strs[0][:i]\n",
    "    \n",
    "    # If no mismatch is found, return the prefix as the minimum length string\n",
    "    return strs[0][:min_length]\n",
    "strings = [\"flower\", \"flow\", \"flight\"]\n",
    "common_prefix = longest_common_prefix(strings)\n",
    "print(common_prefix)"
   ]
  },
  {
   "cell_type": "markdown",
   "id": "07354254",
   "metadata": {},
   "source": [
    "## 35. Write a program to check if a given number is a perfect square.\n"
   ]
  },
  {
   "cell_type": "code",
   "execution_count": 28,
   "id": "dfe87a5a",
   "metadata": {},
   "outputs": [
    {
     "name": "stdout",
     "output_type": "stream",
     "text": [
      "The number is a perfect square.\n"
     ]
    }
   ],
   "source": [
    "def is_perfect_square(num):\n",
    "    if num < 0:\n",
    "        return False\n",
    "\n",
    "    # Using the property that the square root of a perfect square is an integer\n",
    "    sqrt = int(num ** 0.5)\n",
    "    return sqrt * sqrt == num\n",
    "number = 16\n",
    "if is_perfect_square(number):\n",
    "    print(\"The number is a perfect square.\")\n",
    "else:\n",
    "    print(\"The number is not a perfect square.\")\n"
   ]
  },
  {
   "cell_type": "markdown",
   "id": "494e5fb0",
   "metadata": {},
   "source": [
    "## 36. Implement a function to calculate the product of all elements in a list."
   ]
  },
  {
   "cell_type": "code",
   "execution_count": 29,
   "id": "440f1b52",
   "metadata": {},
   "outputs": [
    {
     "name": "stdout",
     "output_type": "stream",
     "text": [
      "120\n"
     ]
    }
   ],
   "source": [
    "def product_of_elements(lst):\n",
    "    product = 1\n",
    "    \n",
    "    for num in lst:\n",
    "        product *= num\n",
    "    \n",
    "    return product\n",
    "my_list = [1, 2, 3, 4, 5]\n",
    "result = product_of_elements(my_list)\n",
    "print(result)\n"
   ]
  },
  {
   "cell_type": "markdown",
   "id": "6df759aa",
   "metadata": {},
   "source": [
    "##  37.Write a Python program to reverse the order of words in a sentence while preserving the word order."
   ]
  },
  {
   "cell_type": "code",
   "execution_count": 30,
   "id": "bc5854d6",
   "metadata": {},
   "outputs": [
    {
     "name": "stdout",
     "output_type": "stream",
     "text": [
      "Welcome world! Hello,\n"
     ]
    }
   ],
   "source": [
    "def reverse_words(sentence):\n",
    "    words = sentence.split()\n",
    "    reversed_sentence = ' '.join(reversed(words))\n",
    "    return reversed_sentence\n",
    "input_sentence = \"Hello, world! Welcome\"\n",
    "reversed_sentence = reverse_words(input_sentence)\n",
    "print(reversed_sentence)\n"
   ]
  },
  {
   "cell_type": "markdown",
   "id": "04b306b6",
   "metadata": {},
   "source": [
    "## 38.Implement a function to find the missing number in a given list of consecutive numbers"
   ]
  },
  {
   "cell_type": "code",
   "execution_count": 31,
   "id": "35f208f5",
   "metadata": {},
   "outputs": [
    {
     "name": "stdout",
     "output_type": "stream",
     "text": [
      "4\n"
     ]
    }
   ],
   "source": [
    "def find_missing_number(nums):\n",
    "    n = len(nums) + 1\n",
    "    expected_sum = (n * (n + 1)) // 2\n",
    "    actual_sum = sum(nums)\n",
    "    missing_number = expected_sum - actual_sum\n",
    "    return missing_number\n",
    "numbers = [1, 2, 3, 5, 6, 7, 8, 9]\n",
    "missing_number = find_missing_number(numbers)\n",
    "print(missing_number)\n"
   ]
  },
  {
   "cell_type": "markdown",
   "id": "9f408c2c",
   "metadata": {},
   "source": [
    "## 39. Write a program to find the sum of digits of a given number."
   ]
  },
  {
   "cell_type": "code",
   "execution_count": 32,
   "id": "62abaef1",
   "metadata": {},
   "outputs": [
    {
     "name": "stdout",
     "output_type": "stream",
     "text": [
      "15\n"
     ]
    }
   ],
   "source": [
    "def sum_of_digits(number):\n",
    "    # Convert the number to a string\n",
    "    number_str = str(number)\n",
    "    \n",
    "    # Initialize the sum\n",
    "    total = 0\n",
    "    \n",
    "    # Iterate over each digit in the string representation of the number\n",
    "    for digit in number_str:\n",
    "        # Convert the digit back to an integer and add it to the sum\n",
    "        total += int(digit)\n",
    "    \n",
    "    return total\n",
    "number = 12345\n",
    "sum_digits = sum_of_digits(number)\n",
    "print(sum_digits)\n"
   ]
  },
  {
   "cell_type": "markdown",
   "id": "9718ecd6",
   "metadata": {},
   "source": [
    "## 40.Implement a function to check if a given string is a valid palindrome considering case sensitivity."
   ]
  },
  {
   "cell_type": "code",
   "execution_count": 34,
   "id": "8aa78b10",
   "metadata": {},
   "outputs": [
    {
     "name": "stdout",
     "output_type": "stream",
     "text": [
      "The string is a valid palindrome.\n"
     ]
    }
   ],
   "source": [
    "def is_valid_palindrome(string):\n",
    "    # Remove non-alphanumeric characters\n",
    "    cleaned_string = ''.join(char.lower() for char in string if char.isalnum())\n",
    "    \n",
    "    # Check if the cleaned string is equal to its reverse\n",
    "    return cleaned_string == cleaned_string[::-1]\n",
    "input_string = \"A man, a plan, a canal: Panama\"\n",
    "if is_valid_palindrome(input_string):\n",
    "    print(\"The string is a valid palindrome.\")\n",
    "else:\n",
    "    print(\"The string is not a valid palindrome.\")"
   ]
  },
  {
   "cell_type": "markdown",
   "id": "05fc932c",
   "metadata": {},
   "source": [
    "## 41.Write a Python program to find the smallest missing positive integer in a list."
   ]
  },
  {
   "cell_type": "code",
   "execution_count": 35,
   "id": "f4c51774",
   "metadata": {},
   "outputs": [
    {
     "name": "stdout",
     "output_type": "stream",
     "text": [
      "2\n"
     ]
    }
   ],
   "source": [
    "def find_smallest_missing_positive(nums):\n",
    "    n = len(nums)\n",
    "    \n",
    "    # Move each positive number to its correct index\n",
    "    for i in range(n):\n",
    "        while 1 <= nums[i] <= n and nums[i] != nums[nums[i] - 1]:\n",
    "            nums[nums[i] - 1], nums[i] = nums[i], nums[nums[i] - 1]\n",
    "    \n",
    "    # Find the first index that doesn't match its corresponding value\n",
    "    for i in range(n):\n",
    "        if nums[i] != i + 1:\n",
    "            return i + 1\n",
    "    \n",
    "    # If all numbers from 1 to n are present, the smallest missing positive is n + 1\n",
    "    return n + 1\n",
    "numbers = [3, 4, -1, 1]\n",
    "smallest_missing = find_smallest_missing_positive(numbers)\n",
    "print(smallest_missing)"
   ]
  },
  {
   "cell_type": "markdown",
   "id": "a372e641",
   "metadata": {},
   "source": [
    "## 42.Implement a function to find the longest palindrome substring in a given string."
   ]
  },
  {
   "cell_type": "code",
   "execution_count": 36,
   "id": "1229ae95",
   "metadata": {},
   "outputs": [
    {
     "name": "stdout",
     "output_type": "stream",
     "text": [
      "aba\n"
     ]
    }
   ],
   "source": [
    "def longest_palindrome_substring(s):\n",
    "    if not s:\n",
    "        return \"\"\n",
    "\n",
    "    start = end = 0\n",
    "\n",
    "    for i in range(len(s)):\n",
    "        # Check for odd-length palindromes\n",
    "        len1 = expand_around_center(s, i, i)\n",
    "        \n",
    "        # Check for even-length palindromes\n",
    "        len2 = expand_around_center(s, i, i + 1)\n",
    "        \n",
    "        # Find the maximum length and update the start and end indices\n",
    "        length = max(len1, len2)\n",
    "        if length > end - start:\n",
    "            start = i - (length - 1) // 2\n",
    "            end = i + length // 2\n",
    "    \n",
    "    return s[start:end+1]\n",
    "\n",
    "\n",
    "def expand_around_center(s, left, right):\n",
    "    while left >= 0 and right < len(s) and s[left] == s[right]:\n",
    "        left -= 1\n",
    "        right += 1\n",
    "    \n",
    "    return right - left - 1\n",
    "input_string = \"babad\"\n",
    "longest_palindrome = longest_palindrome_substring(input_string)\n",
    "print(longest_palindrome)\n"
   ]
  },
  {
   "cell_type": "markdown",
   "id": "2a31a2aa",
   "metadata": {},
   "source": [
    "## 45. Write a Python program to remove all duplicates from a string."
   ]
  },
  {
   "cell_type": "code",
   "execution_count": 38,
   "id": "410f4b5f",
   "metadata": {},
   "outputs": [
    {
     "name": "stdout",
     "output_type": "stream",
     "text": [
      "Helo, Wrd!\n"
     ]
    }
   ],
   "source": [
    "def remove_duplicates(string):\n",
    "    # Create an empty set to store unique characters\n",
    "    unique_chars = set()\n",
    "    \n",
    "    # Create a new string with only unique characters\n",
    "    new_string = \"\"\n",
    "    \n",
    "    # Iterate over each character in the string\n",
    "    for char in string:\n",
    "        # Check if the character is not in the set of unique characters\n",
    "        if char not in unique_chars:\n",
    "            # Add the character to the set and the new string\n",
    "            unique_chars.add(char)\n",
    "            new_string += char\n",
    "    \n",
    "    return new_string\n",
    "input_string = \"Hello, World!\"\n",
    "new_string = remove_duplicates(input_string)\n",
    "print(new_string)"
   ]
  },
  {
   "cell_type": "markdown",
   "id": "147040cd",
   "metadata": {},
   "source": [
    "## 46. Implement a function to find the first missing positive\n"
   ]
  },
  {
   "cell_type": "code",
   "execution_count": 37,
   "id": "5f11dc3c",
   "metadata": {},
   "outputs": [
    {
     "name": "stdout",
     "output_type": "stream",
     "text": [
      "2\n"
     ]
    }
   ],
   "source": [
    "def find_first_missing_positive(nums):\n",
    "    n = len(nums)\n",
    "    \n",
    "    # Move each positive number to its correct index\n",
    "    for i in range(n):\n",
    "        while 1 <= nums[i] <= n and nums[i] != nums[nums[i] - 1]:\n",
    "            nums[nums[i] - 1], nums[i] = nums[i], nums[nums[i] - 1]\n",
    "    \n",
    "    # Find the first index that doesn't match its corresponding value\n",
    "    for i in range(n):\n",
    "        if nums[i] != i + 1:\n",
    "            return i + 1\n",
    "    \n",
    "    # If all numbers from 1 to n are present, the first missing positive is n + 1\n",
    "    return n + 1\n",
    "numbers = [3, 4, -1, 1]\n",
    "first_missing = find_first_missing_positive(numbers)\n",
    "print(first_missing)\n"
   ]
  },
  {
   "cell_type": "code",
   "execution_count": null,
   "id": "0eae6f5b",
   "metadata": {},
   "outputs": [],
   "source": []
  }
 ],
 "metadata": {
  "kernelspec": {
   "display_name": "Python 3 (ipykernel)",
   "language": "python",
   "name": "python3"
  },
  "language_info": {
   "codemirror_mode": {
    "name": "ipython",
    "version": 3
   },
   "file_extension": ".py",
   "mimetype": "text/x-python",
   "name": "python",
   "nbconvert_exporter": "python",
   "pygments_lexer": "ipython3",
   "version": "3.10.9"
  }
 },
 "nbformat": 4,
 "nbformat_minor": 5
}
